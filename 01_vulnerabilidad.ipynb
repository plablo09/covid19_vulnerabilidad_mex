{
 "cells": [
  {
   "cell_type": "code",
   "execution_count": null,
   "metadata": {},
   "outputs": [],
   "source": [
    "# default_exp vulnerabilidad"
   ]
  },
  {
   "cell_type": "code",
   "execution_count": null,
   "metadata": {},
   "outputs": [],
   "source": [
    "%load_ext autoreload\n",
    "%autoreload 2"
   ]
  },
  {
   "cell_type": "markdown",
   "metadata": {},
   "source": [
    "# Vulnerabilidad\n",
    "\n",
    "> Métodos para dignosticar la vulnerabilidad a COVID-19 de entidades y municipios basandonos en sus \n",
    "indicadores sociales, económicos, de salud y de infraestructura"
   ]
  },
  {
   "cell_type": "code",
   "execution_count": null,
   "metadata": {},
   "outputs": [],
   "source": [
    "# exports\n",
    "from ipywidgets import IntProgress\n",
    "from IPython.display import display\n",
    "import time\n",
    "\n",
    "from covid19_vulnerabilidad_mex.datos import *\n",
    "\n",
    "import pandas as pd\n",
    "import geopandas as gpd\n",
    "\n",
    "import glob\n",
    "import os\n",
    "import matplotlib.pyplot as plt\n",
    "import numpy as np\n",
    "\n",
    "from datetime import timedelta\n",
    "import datetime\n",
    "\n",
    "from sklearn.feature_selection import SelectKBest, chi2\n",
    "from sklearn.ensemble import RandomForestRegressor, RandomForestClassifier\n",
    "from sklearn.feature_selection import SelectFromModel\n",
    "from sklearn.cross_decomposition import PLSRegression\n",
    "\n",
    "import imageio\n",
    "from pygifsicle import optimize"
   ]
  },
  {
   "cell_type": "markdown",
   "metadata": {},
   "source": [
    "## Exploración visual"
   ]
  },
  {
   "cell_type": "markdown",
   "metadata": {},
   "source": [
    "### show_feature_importances"
   ]
  },
  {
   "cell_type": "code",
   "execution_count": null,
   "metadata": {},
   "outputs": [],
   "source": [
    "# exports\n",
    "\n",
    "def show_feature_importances(rf):\n",
    "    importances = rf.feature_importances_\n",
    "\n",
    "    std = np.std([tree.feature_importances_ for tree in rf.estimators_],\n",
    "                 axis=0)\n",
    "    indices = np.argsort(importances)[::-1]\n",
    "\n",
    "    # Print the feature ranking\n",
    "    print(\"Feature ranking:\")\n",
    "\n",
    "    for f in range(X.shape[1]):\n",
    "        print(\"%d. feature %s (%f)\" % (f + 1, X.columns[indices[f]], importances[indices[f]]))\n",
    "\n",
    "    # Plot the feature importances of the forest\n",
    "    f, ax = plt.subplots(figsize=(15, 10))\n",
    "    plt.title(\"Feature importances\")\n",
    "    plt.bar(range(X.shape[1]), importances[indices],\n",
    "           color=\"r\", yerr=std[indices], align=\"center\")\n",
    "    plt.xticks(range(X.shape[1]), X.columns[indices])\n",
    "    plt.xlim([-1, X.shape[1]])\n",
    "    plt.show()"
   ]
  },
  {
   "cell_type": "code",
   "execution_count": null,
   "metadata": {},
   "outputs": [],
   "source": [
    "# exports\n",
    "\n",
    "def mostrar_coeficientes_PLS(pls):\n",
    "    f, ax = plt.subplots(figsize=(15, 10))\n",
    "    sns.barplot(y='nombre', x='coef', data=feats_df, color='c')"
   ]
  },
  {
   "cell_type": "markdown",
   "metadata": {},
   "source": [
    "## Preparación de datos"
   ]
  },
  {
   "cell_type": "code",
   "execution_count": null,
   "metadata": {},
   "outputs": [],
   "source": [
    "# exports\n",
    "\n",
    "def agregar_conteo_pruebas(covid_municipal, solo_covid=True):\n",
    "    cols_localidad = ['ENTIDAD_RES', 'MUNICIPIO_RES', 'CLAVE_MUNICIPIO_RES']\n",
    "    count_tested = covid_municipal[cols_localidad + ['conteo']].groupby(cols_localidad).sum()\n",
    "    count_tested.reset_index(inplace=True)\n",
    "    count_tested.rename(columns={'conteo': 'total_pruebas'}, inplace=True)\n",
    "\n",
    "    covid_municipal = covid_municipal.merge(count_tested, on=cols_localidad, how='left')\n",
    "\n",
    "\n",
    "    covid_municipal['casos_frac'] = 100 * covid_municipal['conteo'] / covid_municipal['total_pruebas']\n",
    "    covid_municipal['tasa_covid_letal'] = 100 * covid_municipal['defunciones'] / covid_municipal['conteo']\n",
    "\n",
    "    if solo_covid:\n",
    "        covid_municipal = covid_municipal.query('RESULTADO == \"Positivo SARS-CoV-2\"')\n",
    "    return covid_municipal"
   ]
  },
  {
   "cell_type": "code",
   "execution_count": null,
   "metadata": {},
   "outputs": [],
   "source": [
    "# exports\n",
    "\n",
    "def agregar_tasas_municipales(casos_mun_df):\n",
    "    casos_mun_df['covid_confirmados_100k'] = 100000 * casos_mun_df['conteo'] / casos_mun_df['pob2020']\n",
    "    casos_mun_df['covid_defun_100k'] = 100000 * casos_mun_df['defunciones'] / casos_mun_df['pob2020']\n",
    "    casos_mun_df['tasa_covid_letal'] = 100 * casos_mun_df['defunciones'] / casos_mun_df['conteo']\n",
    "\n",
    "    # covid_municipal = covid_municipal.query('RESULTADO == \"Positivo SARS-CoV-2\"').copy()\n",
    "\n",
    "    # casos_mun_df = gpd.GeoDataFrame(casos_mun_df, geometry='geometry')\n",
    "    \n",
    "    return casos_mun_df"
   ]
  },
  {
   "cell_type": "code",
   "execution_count": null,
   "metadata": {},
   "outputs": [],
   "source": [
    "fecha = '200601'\n",
    "covid_municipal = tabla_covid_indicadores_municipales(fecha)"
   ]
  },
  {
   "cell_type": "code",
   "execution_count": null,
   "metadata": {},
   "outputs": [],
   "source": [
    "covid_municipal = agregar_tasas_municipales(covid_municipal)"
   ]
  },
  {
   "cell_type": "code",
   "execution_count": null,
   "metadata": {},
   "outputs": [],
   "source": [
    "covid_municipal"
   ]
  },
  {
   "cell_type": "markdown",
   "metadata": {},
   "source": [
    "## Ajuste de modelos de inferencia"
   ]
  },
  {
   "cell_type": "markdown",
   "metadata": {},
   "source": [
    "### caracteristicas_modelos_municipios"
   ]
  },
  {
   "cell_type": "code",
   "execution_count": null,
   "metadata": {},
   "outputs": [],
   "source": [
    "# exports\n",
    "\n",
    "def caracteristicas_modelos_municipios(mun_df, poblaciones=False, i_vuln=False):\n",
    "    pob_vars = []\n",
    "    if not poblaciones:\n",
    "        pob_vars = list(mun_df.columns[mun_df.columns.str.contains('_pob')])\n",
    "        pob_vars = pob_vars + ['mayores_65', 'pob2020', 'pt_2015', 'pob_menore', 'poblacion', 'pob_total']\n",
    "        pob_vars = pob_vars + ['sin_dere_1', 'sin_derech', 'carencias_']\n",
    "    i_vuln_vars = []\n",
    "    if not i_vuln:\n",
    "        i_vuln_vars = ['i_vuln_salud', 'i_vuln_cobertura', 'i_vuln_econo', 'i_vuln_social',\n",
    "                       'i_vuln_gen', 'i_vuln_infraestructura']\n",
    "        \n",
    "    columnas_numericas = mun_df.select_dtypes(include=np.number).columns\n",
    "    \n",
    "    otras_vars = ['covid_defun_100k', 'tasa_covid_letal', 'defunciones',\n",
    "                  'INTUBADO_BIN', 'UCI_BIN', 'UCIs', 'tasa_uci', 'total_pruebas',\n",
    "                  'area_cart', 'area', 'densi', 'casos_frac', 'area_km2', 'conteo',\n",
    "                  'oid', 'covid_confrimados_100k', 'id', 'vulnerabilidad_ambiental_num', 'covid_confirmados_100k']\n",
    "    \n",
    "    caracteristicas = list(set(columnas_numericas).difference(pob_vars + i_vuln_vars + otras_vars))\n",
    " \n",
    "    return caracteristicas\n",
    "    "
   ]
  },
  {
   "cell_type": "code",
   "execution_count": null,
   "metadata": {},
   "outputs": [],
   "source": [
    "caracteristicas_mun = caracteristicas_modelos_municipios(covid_municipal)\n",
    "caracteristicas_mun"
   ]
  },
  {
   "cell_type": "markdown",
   "metadata": {},
   "source": [
    "### ajustar_pls_letalidad"
   ]
  },
  {
   "cell_type": "code",
   "execution_count": null,
   "metadata": {},
   "outputs": [],
   "source": [
    "#exports\n",
    "\n",
    "def ajustar_pls_letalidad(municipios_df, caracteristicas, min_casos=20, min_defunciones=0):\n",
    "    data_train = municipios_df.loc[municipios_df[caracteristicas].notna().all(axis=1)]\n",
    "\n",
    "    X = data_train.query(f'(conteo > {min_casos}) & (defunciones > {min_defunciones})')[caracteristicas]\n",
    "    Y = data_train.query(f'(conteo > {min_casos}) & (defunciones > {min_defunciones})')['tasa_covid_letal']\n",
    "\n",
    "    # X['i_vuln_econo'] = -X['i_vuln_econo']\n",
    "\n",
    "    pls2 = PLSRegression(n_components=1)\n",
    "    pls2.fit(X, Y)\n",
    "    pls2.coef_ = pls2.coef_.flatten()\n",
    "    \n",
    "    return pls2"
   ]
  },
  {
   "cell_type": "code",
   "execution_count": null,
   "metadata": {},
   "outputs": [],
   "source": [
    "pls = ajustar_pls_letalidad(municipios_df=covid_municipal, caracteristicas=caracteristicas_mun)"
   ]
  },
  {
   "cell_type": "markdown",
   "metadata": {},
   "source": [
    "### ajustar_rf_letalidad"
   ]
  },
  {
   "cell_type": "code",
   "execution_count": null,
   "metadata": {},
   "outputs": [],
   "source": [
    "# exports\n",
    "\n",
    "def ajustar_rf_letalidad(municipios_df, caracteristicas, min_casos=20, min_defunciones=0, random_seed=0):\n",
    "    data_train = municipios_df.loc[municipios_df[caracteristicas].notna().all(axis=1)]\n",
    "\n",
    "    X = data_train.query(f'(conteo > {min_casos}) & (defunciones > {min_defunciones})')[caracteristicas]\n",
    "    Y = data_train.query(f'(conteo > {min_casos}) & (defunciones > {min_defunciones})')['tasa_covid_letal']\n",
    "\n",
    "    # X['i_vuln_econo'] = -X['i_vuln_econo']\n",
    "    rf = RandomForestRegressor(random_state=random_seed)\n",
    "    rf.fit(X, Y)\n",
    "\n",
    "    return rf    "
   ]
  },
  {
   "cell_type": "markdown",
   "metadata": {},
   "source": [
    "## Generar índices"
   ]
  },
  {
   "cell_type": "markdown",
   "metadata": {},
   "source": [
    "### calificar_municipios_letalidad"
   ]
  },
  {
   "cell_type": "code",
   "execution_count": null,
   "metadata": {},
   "outputs": [],
   "source": [
    "#exports\n",
    "\n",
    "def calificar_municipios_letalidad(mun_df, regr, caracteristicas, etiqueta):\n",
    "    not_na_row = mun_df[caracteristicas].notnull().all(axis=1)\n",
    "    X = mun_df.loc[not_na_row, caracteristicas]\n",
    "    Y_pred = regr.predict(X)\n",
    "    mun_df.loc[not_na_row, etiqueta] = Y_pred\n",
    "    \n",
    "    return mun_df\n",
    "    "
   ]
  },
  {
   "cell_type": "markdown",
   "metadata": {},
   "source": [
    "### calificar_municipios_letalidad_formato_largo"
   ]
  },
  {
   "cell_type": "code",
   "execution_count": null,
   "metadata": {},
   "outputs": [],
   "source": [
    "#exports\n",
    "\n",
    "def calificar_municipios_letalidad_formato_largo(mun_df, regr, caracteristicas, modelo, dia_ajuste):\n",
    "    mun_df = mun_df.copy()\n",
    "    not_na_row = mun_df[caracteristicas].notnull().all(axis=1)\n",
    "    X = mun_df.loc[not_na_row, caracteristicas]\n",
    "    Y_pred = regr.predict(X)\n",
    "    mun_df['modelo'] = modelo\n",
    "    mun_df['dia_ajuste'] = dia_ajuste\n",
    "    mun_df.loc[not_na_row, 'valor'] = Y_pred\n",
    "    \n",
    "    return mun_df\n",
    "    "
   ]
  },
  {
   "cell_type": "markdown",
   "metadata": {},
   "source": [
    "### seleccionar_caracteristicas"
   ]
  },
  {
   "cell_type": "code",
   "execution_count": null,
   "metadata": {},
   "outputs": [],
   "source": [
    "#exports\n",
    "\n",
    "def seleccionar_caracteristicas(regr, X, caracteristicas):\n",
    "    sel = SelectFromModel(regr, prefit=True)\n",
    "\n",
    "    caracteristicas_selec = list(X[caracteristicas].columns[sel.get_support()])\n",
    "    return caracteristicas_selec"
   ]
  },
  {
   "cell_type": "code",
   "execution_count": null,
   "metadata": {},
   "outputs": [],
   "source": [
    "seleccionar_caracteristicas(pls, covid_municipal, caracteristicas_mun)"
   ]
  },
  {
   "cell_type": "markdown",
   "metadata": {},
   "source": [
    "### calcular_indices_vulnerabilidad"
   ]
  },
  {
   "cell_type": "code",
   "execution_count": null,
   "metadata": {},
   "outputs": [],
   "source": [
    "# exports\n",
    "\n",
    "def calcular_indices_vulnerabilidad(fecha_0, fecha_1, vulnerabilidad='fecha_0'):\n",
    "    covid_municipal_0 = tabla_covid_indicadores_municipales(fecha_0)\n",
    "    covid_municipal_0 = agregar_tasas_municipales(covid_municipal_0)\n",
    "    \n",
    "    covid_municipal_1 = tabla_covid_indicadores_municipales(fecha_1)\n",
    "    covid_municipal_1 = agregar_tasas_municipales(covid_municipal_1)\n",
    "    \n",
    "    caracteristicas = caracteristicas_modelos_municipios(covid_municipal_0)    \n",
    "    \n",
    "    resultados = covid_municipal_1.copy()\n",
    "    \n",
    "    # rf = ajustar_rf_municipios(covid_municipal_0, fecha_0, caracteristicas)\n",
    "    # caracteristicas_rf = seleccionar_caracteristicas(rf, covid_municipal_0, caracteristicas)\n",
    "    # resultados = calificar_municipios_letalidad(resultados, rf, caracteristicas, etiqueta='i_RF_0')\n",
    "    \n",
    "    pls = ajustar_pls_letalidad(covid_municipal_0, caracteristicas)\n",
    "    resultados = calificar_municipios_letalidad(resultados, pls, caracteristicas, etiqueta='i_PLS_0')\n",
    "    \n",
    "    pls = ajustar_pls_letalidad(covid_municipal_1, caracteristicas)\n",
    "    resultados = calificar_municipios_letalidad(resultados, pls, caracteristicas, etiqueta='i_PLS_1')\n",
    "    \n",
    "    # pls = ajustar_pls_letalidad(covid_municipal_0, caracteristicas_rf)\n",
    "    # resultados = calificar_municipios_letalidad(resultados, pls, caracteristicas, etiqueta='i_PLS_RF_1')\n",
    "    \n",
    "    return resultados\n"
   ]
  },
  {
   "cell_type": "code",
   "execution_count": null,
   "metadata": {},
   "outputs": [],
   "source": [
    "evaluacion = calcular_indices_vulnerabilidad('200501', '200603')"
   ]
  },
  {
   "cell_type": "code",
   "execution_count": null,
   "metadata": {},
   "outputs": [],
   "source": [
    "evaluacion"
   ]
  },
  {
   "cell_type": "code",
   "execution_count": null,
   "metadata": {},
   "outputs": [],
   "source": [
    "evaluacion[evaluacion.i_PLS_0.notna()].plot(column='i_PLS_0', cmap='RdYlBu_r', scheme=\"Quantiles\",\n",
    "         figsize=(15, 20), legend=True, k=3)"
   ]
  },
  {
   "cell_type": "code",
   "execution_count": null,
   "metadata": {},
   "outputs": [],
   "source": [
    "evaluacion[evaluacion.tasa_covid_letal.notna()].plot(column='tasa_covid_letal', cmap='RdYlBu_r', scheme=\"EqualInterval\",\n",
    "         figsize=(15, 20), legend=True, k=10)"
   ]
  },
  {
   "cell_type": "code",
   "execution_count": null,
   "metadata": {},
   "outputs": [],
   "source": [
    "evaluacion[evaluacion.i_PLS_1.notna()].plot(column='i_PLS_1', cmap='RdYlBu_r', scheme=\"Quantiles\",\n",
    "         figsize=(15, 20), legend=True, k=3)"
   ]
  },
  {
   "cell_type": "markdown",
   "metadata": {},
   "source": [
    "### calcular_indices_vulnerabilidad_formato_largo"
   ]
  },
  {
   "cell_type": "code",
   "execution_count": null,
   "metadata": {},
   "outputs": [],
   "source": [
    "# exports\n",
    "\n",
    "def calcular_indices_vulnerabilidad_formato_largo(fecha_0, fecha_1):\n",
    "    covid_municipal_0 = tabla_covid_indicadores_municipales(fecha_0)\n",
    "    covid_municipal_0 = agregar_tasas_municipales(covid_municipal_0)\n",
    "    \n",
    "    covid_municipal_1 = tabla_covid_indicadores_municipales(fecha_1)\n",
    "    covid_municipal_1 = agregar_tasas_municipales(covid_municipal_1)\n",
    "    \n",
    "    caracteristicas = caracteristicas_modelos_municipios(covid_municipal_0)    \n",
    "    \n",
    "    # rf = ajustar_rf_municipios(covid_municipal_0, fecha_0, caracteristicas)\n",
    "    # caracteristicas_rf = seleccionar_caracteristicas(rf, covid_municipal_0, caracteristicas)\n",
    "    # resultados = calificar_municipios_letalidad(resultados, rf, caracteristicas, etiqueta='i_RF_0')\n",
    "    \n",
    "    pls = ajustar_pls_letalidad(covid_municipal_0, caracteristicas)\n",
    "    resultados = calificar_municipios_letalidad_formato_largo(covid_municipal_0, pls, caracteristicas,\n",
    "                                                modelo='PLS', dia_ajuste=fecha_0)\n",
    "    \n",
    "    pls = ajustar_pls_letalidad(covid_municipal_1, caracteristicas)\n",
    "    resultados_temp = calificar_municipios_letalidad_formato_largo(covid_municipal_1, pls, caracteristicas,\n",
    "                                                     modelo='PLS', dia_ajuste=fecha_1)\n",
    "    \n",
    "    resultados = pd.concat([resultados, resultados_temp], ignore_index=True)\n",
    "    # pls = ajustar_pls_letalidad(covid_municipal_0, caracteristicas_rf)\n",
    "    # resultados = calificar_municipios_letalidad(resultados, pls, caracteristicas, etiqueta='i_PLS_RF_1')\n",
    "    \n",
    "    return resultados\n"
   ]
  },
  {
   "cell_type": "code",
   "execution_count": null,
   "metadata": {},
   "outputs": [],
   "source": [
    "vulnerabilidad_covid = calcular_indices_vulnerabilidad_formato_largo('200601', '200614')"
   ]
  },
  {
   "cell_type": "markdown",
   "metadata": {},
   "source": [
    "### calcular_periodo_vulnerabilidad"
   ]
  },
  {
   "cell_type": "code",
   "execution_count": null,
   "metadata": {},
   "outputs": [],
   "source": [
    "# exports\n",
    "\n",
    "def calcular_periodo_vulnerabilidad(inicio, fin, min_defunciones=-1):\n",
    "    inicio = pd.to_datetime(inicio, yearfirst=True)\n",
    "    fin = pd.to_datetime(fin, yearfirst=True)\n",
    "    \n",
    "    fechas = pd.date_range(inicio, fin)\n",
    "    resultados = []\n",
    "    modelos = []\n",
    "    \n",
    "    asegura_archivos_covid_disponibles(fechas)\n",
    "\n",
    "    f = IntProgress(min=0, max=len(fechas) - 1) # instantiate the bar\n",
    "    display(f) # display the bar\n",
    "    \n",
    "    for count, fecha in enumerate(fechas):\n",
    "        covid_municipal = tabla_covid_indicadores_municipales(fecha.strftime(\"%y%m%d\"))\n",
    "        covid_municipal = agregar_tasas_municipales(covid_municipal)\n",
    "     \n",
    "        caracteristicas = caracteristicas_modelos_municipios(covid_municipal)\n",
    "        pls = ajustar_pls_letalidad(covid_municipal, caracteristicas, min_defunciones=min_defunciones)\n",
    "        df = calificar_municipios_letalidad_formato_largo(covid_municipal, pls, caracteristicas,\n",
    "                                                    modelo='PLS', dia_ajuste=fecha)\n",
    "        resultados.append(df)\n",
    "        modelo = pd.DataFrame({'caracteristica': caracteristicas, 'coef': pls.coef_})\n",
    "        modelo['dia_ajuste'] = fecha\n",
    "        modelo['modelo'] = 'PLS'\n",
    "        modelos.append(modelo)\n",
    "        \n",
    "        rf = ajustar_rf_letalidad(covid_municipal, caracteristicas, min_defunciones=min_defunciones)\n",
    "        df = calificar_municipios_letalidad_formato_largo(covid_municipal, rf, caracteristicas,\n",
    "                                            modelo='RF', dia_ajuste=fecha)\n",
    "        resultados.append(df)\n",
    "        modelo = pd.DataFrame({'caracteristica': caracteristicas, 'coef': rf.feature_importances_})\n",
    "        modelo['dia_ajuste'] = fecha\n",
    "        modelo['modelo'] = 'RF'\n",
    "        modelos.append(modelo)\n",
    "        \n",
    "        f.value = count\n",
    "    \n",
    "    resultados_df = pd.concat(resultados, ignore_index=True)\n",
    "    modelos_df = pd.concat(modelos, ignore_index=True)\n",
    "    return modelos_df, resultados_df\n"
   ]
  },
  {
   "cell_type": "code",
   "execution_count": null,
   "metadata": {},
   "outputs": [],
   "source": [
    "modelos, serie_vulnerabilidad = calcular_periodo_vulnerabilidad('20-04-24', '20-06-02')"
   ]
  },
  {
   "cell_type": "code",
   "execution_count": null,
   "metadata": {},
   "outputs": [],
   "source": [
    "serie_vulnerabilidad"
   ]
  },
  {
   "cell_type": "code",
   "execution_count": null,
   "metadata": {},
   "outputs": [],
   "source": [
    "serie_vulnerabilidad[serie_vulnerabilidad.MUNICIPIO_RES == 'AGUASCALIENTES']"
   ]
  },
  {
   "cell_type": "markdown",
   "metadata": {},
   "source": [
    "### agregar_periodo_vulnerabilidad"
   ]
  },
  {
   "cell_type": "code",
   "execution_count": null,
   "metadata": {},
   "outputs": [],
   "source": [
    "#exports\n",
    "\n",
    "def agregar_periodo_vulnerabilidad(modelos_df, serie_vulnerabilidad, inicio, fin):\n",
    "    inicio = pd.to_datetime(inicio, yearfirst=True)\n",
    "    fin = pd.to_datetime(fin, yearfirst=True)\n",
    "    fechas = pd.date_range(inicio, fin)\n",
    "    resultados = []\n",
    "    modelos = []\n",
    "    \n",
    "    asegura_archivos_covid_disponibles(fechas)\n",
    "    f = IntProgress(min=0, max=len(fechas) - 1) # instantiate the bar\n",
    "    display(f) # display the bar\n",
    "    \n",
    "    for count, fecha in enumerate(fechas):\n",
    "        covid_municipal = tabla_covid_indicadores_municipales(fecha.strftime(\"%y%m%d\"))\n",
    "        covid_municipal = agregar_tasas_municipales(covid_municipal)\n",
    "     \n",
    "        caracteristicas = caracteristicas_modelos_municipios(covid_municipal)\n",
    "        pls = ajustar_pls_letalidad(covid_municipal, caracteristicas)\n",
    "        df = calificar_municipios_letalidad_formato_largo(covid_municipal, pls, caracteristicas,\n",
    "                                                    modelo='PLS', dia_ajuste=fecha)\n",
    "        resultados.append(df)\n",
    "        modelo = pd.DataFrame({'caracteristica': caracteristicas, 'coef': pls.coef_})\n",
    "        modelo['dia_ajuste'] = fecha\n",
    "        modelos.append(modelo)\n",
    "        f.value = count\n",
    "    \n",
    "    resultados_df = pd.concat(resultados, ignore_index=True)    \n",
    "    nuevos_modelos_df = pd.concat(modelos, ignore_index=True)\n",
    "    \n",
    "    serie_vulnerabilidad = serie_vulnerabilidad.append(resultados_df)\n",
    "    modelos_df = modelos_df.append(nuevos_modelos_df)\n",
    "    \n",
    "    return modelos_df, serie_vulnerabilidad\n"
   ]
  },
  {
   "cell_type": "markdown",
   "metadata": {},
   "source": [
    "### calcular_periodo_vulnerabilidad_urbanos"
   ]
  },
  {
   "cell_type": "code",
   "execution_count": null,
   "metadata": {},
   "outputs": [],
   "source": []
  },
  {
   "cell_type": "code",
   "execution_count": null,
   "metadata": {},
   "outputs": [],
   "source": [
    "# exports\n",
    "def calcular_vulnerabilidad_urbana(inicio, fin, min_casos=20, min_defunciones=0):\n",
    "    ''' Ajustar un modelo para los municipios urbanos y otro para los no urbanos '''\n",
    "    inicio = pd.to_datetime(inicio, yearfirst=True)\n",
    "    fin = pd.to_datetime(fin, yearfirst=True)\n",
    "    fechas = pd.date_range(inicio, fin)\n",
    "    resultados = []\n",
    "    modelos = []\n",
    "    \n",
    "    asegura_archivos_covid_disponibles(fechas)\n",
    "    f = IntProgress(min=0, max=len(fechas) - 1) # instantiate the bar\n",
    "    display(f) # display the bar\n",
    "    \n",
    "    urbanos = municipios_urbanos()\n",
    "        \n",
    "    for count, fecha in enumerate(fechas):\n",
    "        covid_municipal = tabla_covid_indicadores_municipales(fecha.strftime(\"%y%m%d\"))\n",
    "        covid_municipal = agregar_tasas_municipales(covid_municipal)\n",
    "     \n",
    "        caracteristicas = caracteristicas_modelos_municipios(covid_municipal)\n",
    "        \n",
    "        serie_urbanos = covid_municipal[covid_municipal.CLAVE_MUNICIPIO_RES.isin(urbanos.CLAVE_MUNICIPIO)]\n",
    "            \n",
    "        pls_urbanos = ajustar_pls_letalidad(serie_urbanos, caracteristicas,\n",
    "                                            min_defunciones=min_defunciones, min_casos=min_casos)\n",
    "        df_urbanos = calificar_municipios_letalidad_formato_largo(serie_urbanos, \n",
    "                                                                  pls_urbanos,\n",
    "                                                                  caracteristicas,\n",
    "                                                                  modelo='PLS_URBANO',\n",
    "                                                                  dia_ajuste=fecha)\n",
    "        resultados.append(df_urbanos)\n",
    "        modelo = pd.DataFrame({'caracteristica': caracteristicas,\n",
    "                               'coef': pls_urbanos.coef_})\n",
    "        modelo['dia_ajuste'] = fecha\n",
    "        modelo['modelo'] = 'PLS_URBANO'\n",
    "        \n",
    "        modelos.append(modelo)\n",
    "        \n",
    "        serie_no_urbanos = covid_municipal[~covid_municipal.CLAVE_MUNICIPIO_RES.isin(urbanos.CLAVE_MUNICIPIO)]\n",
    "        pls_no_urbanos = ajustar_pls_letalidad(serie_no_urbanos, caracteristicas,\n",
    "                                               min_defunciones=min_defunciones, min_casos=min_casos)\n",
    "        df_no_urbanos = calificar_municipios_letalidad_formato_largo(serie_no_urbanos, \n",
    "                                                                  pls_no_urbanos,\n",
    "                                                                  caracteristicas,\n",
    "                                                                  modelo='PLS_NO_URBANO',\n",
    "                                                                  dia_ajuste=fecha)\n",
    "        resultados.append(df_no_urbanos)\n",
    "        modelo = pd.DataFrame({'caracteristica': caracteristicas, 'coef': pls_no_urbanos.coef_})\n",
    "        modelo['dia_ajuste'] = fecha\n",
    "        modelo['modelo'] = 'PLS_NO_URBANO'\n",
    "\n",
    "        modelos.append(modelo)\n",
    "        \n",
    "        f.value = count\n",
    "    \n",
    "    resultados_df = pd.concat(resultados, ignore_index=True)\n",
    "    modelos_df = pd.concat(modelos, ignore_index=True)\n",
    "    return modelos_df, resultados_df    "
   ]
  },
  {
   "cell_type": "code",
   "execution_count": null,
   "metadata": {},
   "outputs": [],
   "source": [
    "pls, vulnerabilidad_urbana = calcular_vulnerabilidad_urbana('200620', '200621', min_defunciones=5, min_casos=0)"
   ]
  },
  {
   "cell_type": "code",
   "execution_count": null,
   "metadata": {},
   "outputs": [],
   "source": [
    "pls.head()"
   ]
  },
  {
   "cell_type": "markdown",
   "metadata": {},
   "source": [
    "## Postprocesamiento de resultados "
   ]
  },
  {
   "cell_type": "markdown",
   "metadata": {},
   "source": [
    "### agregar_vulnerabilidad_entidades"
   ]
  },
  {
   "cell_type": "code",
   "execution_count": null,
   "metadata": {},
   "outputs": [],
   "source": [
    "#exports\n",
    "\n",
    "def agregar_vulnerabilidad_entidades(serie_vulnerabilidad, campo_indice='valor'):\n",
    "    df = serie_vulnerabilidad.copy()\n",
    "    \n",
    "    df['poblacion_entidad'] = df.groupby(['CLAVE_ENTIDAD_RES', 'dia_ajuste', 'modelo'])['pob2020'].transform('sum')\n",
    "    df['proporcion_pob_entidad'] = df['pob2020'] / df['poblacion_entidad']\n",
    "    \n",
    "    df[f'{campo_indice}_entidad'] = df[campo_indice] * df['proporcion_pob_entidad']\n",
    "    df[f'{campo_indice}_entidad'] = df.groupby(['CLAVE_ENTIDAD_RES', 'dia_ajuste', 'modelo'])[f'{campo_indice}_entidad'].transform('sum')\n",
    "    df['letalidad_entidad'] = df['tasa_covid_letal'] * df['proporcion_pob_entidad']\n",
    "    df['letalidad_entidad'] = df.groupby(['CLAVE_ENTIDAD_RES', 'dia_ajuste', 'modelo'])[f'letalidad_entidad'].transform('sum')\n",
    "\n",
    "    \n",
    "    return df"
   ]
  },
  {
   "cell_type": "markdown",
   "metadata": {},
   "source": [
    "## Reporte de resultados"
   ]
  },
  {
   "cell_type": "markdown",
   "metadata": {},
   "source": [
    "### guardar_resultados_csv"
   ]
  },
  {
   "cell_type": "code",
   "execution_count": null,
   "metadata": {},
   "outputs": [],
   "source": [
    "#exports\n",
    "\n",
    "def guardar_resultados_csv(resultados):\n",
    "    reporte_csv = resultados.rename(columns={'tasa_covid_conocidos': 'casos_100k',\n",
    "                             'tasa_covid_defun': 'defunciones_100k',\n",
    "                             'tasa_covid_letal': 'letalidad',\n",
    "                             'i_PLS_0': 'i_vulnerabilidad'})\n",
    "    \n",
    "    resultados_dir = 'resultados'\n",
    "    sem_ent_cols = ['CLAVE_ENTIDAD_RES', 'nom_ent'] + ['i_vuln_estatal', 'semaforo_estado', 'semaforo_tend_estado']\n",
    "    sem_mun_cols = ['CLAVE_MUNICIPIO_RES', 'nom_ent', 'nom_mun'] + ['i_vulnerabilidad', 'semaforo_municipio']\n",
    "\n",
    "    nombre_csv_mun = os.path.join(resultados_dir, 'i_semaforo_municipios.csv')\n",
    "    nombre_csv_ent = os.path.join(resultados_dir, 'i_semaforo_entidades.csv')\n",
    "    nombre_csv_full = os.path.join(resultados_dir, 'semaforo_municipios.csv')\n",
    "\n",
    "    reporte[sem_mun_cols].to_csv(nombre_csv_mun, index=False)\n",
    "    reporte[sem_ent_cols].drop_duplicates().to_csv(nombre_csv_ent, index=False)\n",
    "    reporte.drop(columns='geometry').to_csv(nombre_csv_full, index=False)\n"
   ]
  },
  {
   "cell_type": "code",
   "execution_count": null,
   "metadata": {},
   "outputs": [],
   "source": [
    "guardar_resultados()"
   ]
  },
  {
   "cell_type": "markdown",
   "metadata": {},
   "source": [
    "### mapas_serie_letalidad"
   ]
  },
  {
   "cell_type": "code",
   "execution_count": null,
   "metadata": {},
   "outputs": [],
   "source": [
    "#exports\n",
    "\n",
    "def mapas_serie_letalidad(serie_vulnerabilidad, gif=True, lapso_dias=1):\n",
    "    '''\n",
    "        Recibe el DataFrame con la vulnerabilidad calculada para un rango de fechas y genera los mapas de cada fecha. \n",
    "    '''\n",
    "    dir_salida = 'resultados/mapas/letalidad'\n",
    "    if not os.path.exists(dir_salida):\n",
    "        os.mkdir(dir_salida)\n",
    "        \n",
    "    serie_vulnerabilidad = serie_vulnerabilidad[['dia_ajuste', 'geometry', 'tasa_covid_letal', 'CLAVE_MUNICIPIO_RES']].copy()\n",
    "    serie_vulnerabilidad = serie_vulnerabilidad.drop_duplicates()\n",
    "    \n",
    "    inicio = serie_vulnerabilidad.dia_ajuste.min()\n",
    "    fin = serie_vulnerabilidad.dia_ajuste.max()\n",
    "    \n",
    "    imagenes_mapas = []\n",
    "    lista_mapas = []\n",
    "    for fecha in pd.date_range(inicio, fin, freq=f'{lapso_dias}D'):\n",
    "        datos_mapa = serie_vulnerabilidad[(serie_vulnerabilidad.dia_ajuste == fecha)]\n",
    "        datos_mapa = datos_mapa[datos_mapa.tasa_covid_letal.notna()]\n",
    "        fig = datos_mapa.plot(column='tasa_covid_letal', cmap='YlOrRd', scheme=\"equalinterval\",\n",
    "                        figsize=(10, 10), legend=True, k=10, edgecolor=\"face\")\n",
    "        # remove axis of chart\n",
    "        fig.axis('off')\n",
    "\n",
    "        # add a title\n",
    "        fig.set_title('Letalidad COVID-19 Municipios de México', \\\n",
    "                  fontdict={'fontsize': '25', 'fontweight' : '3'})\n",
    "        nombre_mapa = fecha.strftime(\"%y%m%d\") + '_letalidad.jpg'\n",
    "        ruta_archivo = os.path.join(dir_salida, nombre_mapa)\n",
    "        lista_mapas.append(ruta_archivo)\n",
    "        # position the annotation to the bottom left\n",
    "        fig.annotate(fecha.strftime(\"%d/%m\"),\n",
    "                xy=(0.1, .225), xycoords='figure fraction',\n",
    "                horizontalalignment='left', verticalalignment='top',\n",
    "                fontsize=35)\n",
    "        \n",
    "        chart = fig.get_figure()\n",
    "        chart.savefig(ruta_archivo, dpi=300)\n",
    "        plt.close(chart)\n",
    "        imagenes_mapas.append(imageio.imread(ruta_archivo))\n",
    "\n",
    "    inicio_str = inicio.strftime('%m%d')\n",
    "    fin_str = fin.strftime('%m%d')\n",
    "    imageio.mimsave(f'letalidad_covid_{inicio_str}_{fin_str}_{f\"{lapso_dias}D\"}.gif', imagenes_mapas, duration=1)\n",
    "    optimize(f'letalidad_covid_{inicio_str}_{fin_str}_{f\"{lapso_dias}D\"}.gif')\n",
    "    return lista_mapas\n",
    "    \n"
   ]
  },
  {
   "cell_type": "code",
   "execution_count": null,
   "metadata": {},
   "outputs": [],
   "source": [
    "mapas_serie_letalidad(serie_vulnerabilidad)"
   ]
  },
  {
   "cell_type": "markdown",
   "metadata": {},
   "source": [
    "### mapas_serie_vulnerabilidad"
   ]
  },
  {
   "cell_type": "code",
   "execution_count": null,
   "metadata": {},
   "outputs": [],
   "source": [
    "#exports\n",
    "\n",
    "def mapas_serie_vulnerabilidad(serie_vulnerabilidad, modelo='PLS', gif=True, lapso_dias=1):\n",
    "    '''\n",
    "        Recibe el DataFrame con la vulnerabilidad calculada para un rango de fechas y genera los mapas de cada fecha. \n",
    "    '''\n",
    "    dir_salida = 'resultados/mapas/vulnerabilidad'\n",
    "    if not os.path.exists(dir_salida):\n",
    "        os.mkdir(dir_salida)\n",
    "    \n",
    "    serie_vulnerabilidad = serie_vulnerabilidad.copy()    \n",
    "    inicio = serie_vulnerabilidad.dia_ajuste.min()\n",
    "    fin = serie_vulnerabilidad.dia_ajuste.max()\n",
    "    lista_mapas = []\n",
    "    imagenes_mapas = []\n",
    "\n",
    "    for fecha in pd.date_range(inicio, fin, freq=f'{lapso_dias}D'):\n",
    "        datos_mapa = serie_vulnerabilidad[(serie_vulnerabilidad.dia_ajuste == fecha) &\n",
    "                                         (serie_vulnerabilidad.modelo == modelo)]\n",
    "        datos_mapa = datos_mapa[datos_mapa.valor.notna()]\n",
    "        fig = datos_mapa.plot(column='valor', cmap='RdYlBu_r', scheme=\"Quantiles\",\n",
    "                        figsize=(10, 10), legend=True, k=5, edgecolor=\"face\")\n",
    "        # remove axis of chart\n",
    "        fig.axis('off')\n",
    "\n",
    "        # add a title\n",
    "        fig.set_title('Vulnerabilidad COVID-19 Municipios de México', \\\n",
    "                  fontdict={'fontsize': '25', 'fontweight' : '3'})\n",
    "        nombre_mapa = fecha.strftime(\"%y_%m_%d\") + '_vulnerabilidad.jpg'\n",
    "        ruta_archivo = os.path.join(dir_salida, nombre_mapa)\n",
    "        lista_mapas.append(ruta_archivo)\n",
    "        \n",
    "        # position the annotation to the bottom left\n",
    "        fig.annotate(fecha.strftime(\"%d/%m\"),\n",
    "                xy=(0.1, .225), xycoords='figure fraction',\n",
    "                horizontalalignment='left', verticalalignment='top',\n",
    "                fontsize=35)\n",
    "        \n",
    "        chart = fig.get_figure()\n",
    "        chart.savefig(ruta_archivo, dpi=300)\n",
    "        imagenes_mapas.append(imageio.imread(ruta_archivo))\n",
    "\n",
    "        plt.close(chart)\n",
    "    inicio_str = inicio.strftime('%m%d')\n",
    "    fin_str = fin.strftime('%m%d')\n",
    "    imageio.mimsave(f'vulnerabilidad_covid_{inicio_str}_{fin_str}_{f\"{lapso_dias}D\"}.gif', imagenes_mapas, duration=1)\n",
    "    optimize(f'vulnerabilidad_covid_{inicio_str}_{fin_str}_{f\"{lapso_dias}D\"}.gif')\n",
    "                    \n",
    "    return lista_mapas\n",
    "\n",
    "    \n",
    "    "
   ]
  },
  {
   "cell_type": "code",
   "execution_count": null,
   "metadata": {},
   "outputs": [],
   "source": [
    "mapas_serie_vulnerabilidad(serie_vulnerabilidad)"
   ]
  },
  {
   "cell_type": "markdown",
   "metadata": {},
   "source": [
    "### guardar_shape_vulnerabilidad"
   ]
  },
  {
   "cell_type": "code",
   "execution_count": null,
   "metadata": {},
   "outputs": [],
   "source": [
    "#exports\n",
    "def guardar_shape_vulnerabilidad(vulnerabilidad_gdf, nombre_archivo, fecha_ajuste):\n",
    "    fecha_ajuste = pd.to_datetime(fecha_ajuste, yearfirst=True)\n",
    "    \n",
    "    vulnerabilidad_dia = vulnerabilidad_gdf[vulnerabilidad_gdf.dia_ajuste == fecha_ajuste].copy()\n",
    "    vulnerabilidad_dia.dia_ajuste = vulnerabilidad_dia.dia_ajuste.dt.strftime(\"%d-%m-%y\")\n",
    "    vulnerabilidad_dia.to_file(nombre_archivo)"
   ]
  },
  {
   "cell_type": "code",
   "execution_count": null,
   "metadata": {},
   "outputs": [],
   "source": [
    "guardar_shape_vulnerabilidad(serie_vulnerabilidad, 'prueba_vulnerabilidad.shp', fecha_ajuste='200427')"
   ]
  },
  {
   "cell_type": "markdown",
   "metadata": {},
   "source": [
    "### guardar_serie_vulnerabilidad"
   ]
  },
  {
   "cell_type": "code",
   "execution_count": null,
   "metadata": {},
   "outputs": [],
   "source": [
    "#exports\n",
    "\n",
    "def checkpoint_vulnerabilidad(serie_vulnerabilidad, nombre_archivo):\n",
    "    serie_vulnerabilidad.drop(columns='geometry').to_feather(nombre_archivo)"
   ]
  },
  {
   "cell_type": "code",
   "execution_count": null,
   "metadata": {},
   "outputs": [],
   "source": [
    "#exports\n",
    "\n",
    "def cargar_checkpoint_vulnerabilidad(nombre_archivo):\n",
    "    vulnerabilidad_df = pd.read_feather(nombre_archivo)\n",
    "    geometria_municipal = gpd.read_file('datos/municipios/marco_2019.json')\n",
    "    \n",
    "    vulnerabilidad_df= vulnerabilidad_df.merge(geometria_municipal[['geometry', 'municipio_cvegeo']],\n",
    "                            left_on=['CLAVE_MUNICIPIO_RES'], right_on='municipio_cvegeo')\n",
    "    \n",
    "    return vulnerabilidad_df\n"
   ]
  },
  {
   "cell_type": "code",
   "execution_count": null,
   "metadata": {},
   "outputs": [],
   "source": [
    "vulnerabilidad_df = cargar_checkpoint_vulnerabilidad('prueba.feather')"
   ]
  },
  {
   "cell_type": "code",
   "execution_count": null,
   "metadata": {},
   "outputs": [],
   "source": [
    "null_geoms = vulnerabilidad_df.loc[vulnerabilidad_df.geometry.isna()]"
   ]
  },
  {
   "cell_type": "code",
   "execution_count": null,
   "metadata": {},
   "outputs": [
    {
     "data": {
      "text/html": [
       "<div>\n",
       "<style scoped>\n",
       "    .dataframe tbody tr th:only-of-type {\n",
       "        vertical-align: middle;\n",
       "    }\n",
       "\n",
       "    .dataframe tbody tr th {\n",
       "        vertical-align: top;\n",
       "    }\n",
       "\n",
       "    .dataframe thead th {\n",
       "        text-align: right;\n",
       "    }\n",
       "</style>\n",
       "<table border=\"1\" class=\"dataframe\">\n",
       "  <thead>\n",
       "    <tr style=\"text-align: right;\">\n",
       "      <th></th>\n",
       "      <th>ENTIDAD_RES</th>\n",
       "      <th>MUNICIPIO_RES</th>\n",
       "    </tr>\n",
       "  </thead>\n",
       "  <tbody>\n",
       "    <tr>\n",
       "      <th>59649</th>\n",
       "      <td>OAXACA</td>\n",
       "      <td>ASUNCIÓN OCOTLÁN</td>\n",
       "    </tr>\n",
       "    <tr>\n",
       "      <th>61301</th>\n",
       "      <td>OAXACA</td>\n",
       "      <td>GUELATAO DE JUÁREZ</td>\n",
       "    </tr>\n",
       "    <tr>\n",
       "      <th>62894</th>\n",
       "      <td>OAXACA</td>\n",
       "      <td>NATIVIDAD</td>\n",
       "    </tr>\n",
       "    <tr>\n",
       "      <th>68499</th>\n",
       "      <td>OAXACA</td>\n",
       "      <td>SAN JACINTO AMILPAS</td>\n",
       "    </tr>\n",
       "    <tr>\n",
       "      <th>70564</th>\n",
       "      <td>OAXACA</td>\n",
       "      <td>SAN JUAN CHILATECA</td>\n",
       "    </tr>\n",
       "    <tr>\n",
       "      <th>99769</th>\n",
       "      <td>PUEBLA</td>\n",
       "      <td>RAFAEL LARA GRAJALES</td>\n",
       "    </tr>\n",
       "    <tr>\n",
       "      <th>100713</th>\n",
       "      <td>PUEBLA</td>\n",
       "      <td>SAN MARTÍN TOTOLTEPEC</td>\n",
       "    </tr>\n",
       "  </tbody>\n",
       "</table>\n",
       "</div>"
      ],
      "text/plain": [
       "       ENTIDAD_RES          MUNICIPIO_RES\n",
       "59649       OAXACA       ASUNCIÓN OCOTLÁN\n",
       "61301       OAXACA     GUELATAO DE JUÁREZ\n",
       "62894       OAXACA              NATIVIDAD\n",
       "68499       OAXACA    SAN JACINTO AMILPAS\n",
       "70564       OAXACA     SAN JUAN CHILATECA\n",
       "99769       PUEBLA   RAFAEL LARA GRAJALES\n",
       "100713      PUEBLA  SAN MARTÍN TOTOLTEPEC"
      ]
     },
     "execution_count": null,
     "metadata": {},
     "output_type": "execute_result"
    }
   ],
   "source": [
    "null_geoms[['ENTIDAD_RES', 'MUNICIPIO_RES']].drop_duplicates()"
   ]
  },
  {
   "cell_type": "code",
   "execution_count": null,
   "metadata": {},
   "outputs": [],
   "source": [
    "from nbdev.export import notebook2script\n",
    "notebook2script()"
   ]
  },
  {
   "cell_type": "code",
   "execution_count": null,
   "metadata": {},
   "outputs": [],
   "source": []
  }
 ],
 "metadata": {
  "kernelspec": {
   "display_name": "Python 3",
   "language": "python",
   "name": "python3"
  }
 },
 "nbformat": 4,
 "nbformat_minor": 4
}
