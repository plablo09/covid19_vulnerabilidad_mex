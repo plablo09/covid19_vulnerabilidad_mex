{
 "cells": [
  {
   "cell_type": "code",
   "execution_count": null,
   "metadata": {},
   "outputs": [],
   "source": [
    "%load_ext autoreload\n",
    "%autoreload 2"
   ]
  },
  {
   "cell_type": "code",
   "execution_count": null,
   "metadata": {},
   "outputs": [],
   "source": [
    "from covid19_vulnerabilidad_mex.datos import *\n",
    "from covid19_vulnerabilidad_mex.vulnerabilidad import *\n",
    "\n",
    "from IPython.display import Image\n",
    "import seaborn as sns\n",
    "import matplotlib.pyplot as plt\n",
    "import datetime\n",
    "\n",
    "import pandas as pd"
   ]
  },
  {
   "cell_type": "code",
   "execution_count": null,
   "metadata": {},
   "outputs": [],
   "source": [
    "plss, serie_vulnerabilidad = calcular_periodo_vulnerabilidad('20-04-24', '20-06-12')"
   ]
  },
  {
   "cell_type": "code",
   "execution_count": null,
   "metadata": {},
   "outputs": [],
   "source": [
    "serie_vulnerabilidad.head()"
   ]
  },
  {
   "cell_type": "code",
   "execution_count": null,
   "metadata": {},
   "outputs": [],
   "source": [
    "mapas_serie_letalidad(serie_vulnerabilidad)\n",
    "mapas_serie_vulnerabilidad(serie_vulnerabilidad)"
   ]
  },
  {
   "cell_type": "markdown",
   "metadata": {},
   "source": [
    "# Introducción\n",
    "\n",
    "La pandemia del SARS-Cov-2 que provoca la COVID-19, es un fenómeno complejo que requiere una respuesta de política pública considerando multiples factores de salubridad, economía y sociedad. Con la finalidad de apoyar con información en este proyecto construimos un índice que ayude a identificar poblaciones que están en mayor riesgo en caso de contraer la enfermedad. Este índice cunatifica para este fin la vulnerabilidad de una población como consecuencia de sus características de desarrollo social, economía, y salubridad. \n",
    "\n",
    "El objetivo de este trabajo es construir una herramienta para identificar poblaciones cuyas características sociales, económicas y de salubridad las hacen vulnerables ante COVID-19. Nuestra finalidad con este análisis es complementar la información que proveen los modelos epidemiológicos con dos elementos nuevos: un ordenamiento de los municipios de México de acuerdo con el riesgo que representa para sus habitantes contraer Sars-Cov-2, y también una lista con los indicadores que se observan más correlacionados con este riesgo. \n",
    "\n",
    "Los modelos epidemiológicos no muestran la evolución y el pronóstico de epidemias en áreas donde lleva poco tiempo la epidemia, con pocos contagios o incluso donde no hay registros de casos, los modelos que vemos son sobre regiones donde existe presencia bien establecida de la epidemia. En áreas donde ya hay presencia de la epidemia se puede además de hacer un diagnostico sobre el comportamiento de la dispersión de contagios. Es necesario un diagnóstico sobre la resilencia de la población a la enfermedad, e identificar factores que se correlacionen con tasa altas de comlicaciones, y ultimadamente de defunciones. \n",
    "\n",
    "En este sentido, nos preguntamos en qué zonas, haya o no contagios, los habitantes que se infecten corren mayor riesgo. Para responder esta pregunta utilizamos dos aproximaciones. \n",
    "\n",
    "1. La primera está determinada por una selección manual de variables, donde escogimos indicadores económicos, sociales y de salubridad relacionadas con lo que consideramos indican o mayor riesgo por comorbilidades o mayor riesgo por falta de capacidad de respuesta para la atención de una persona enferma, este índice sirve como una referencia base que resume deficiencias estructurales en los municipios que los harían más vulnerables a la enfermedad. \n",
    "2. En la segunda forma tomamos como variable de respuesta la letalidad reportada en cada muncipio con al menos diez casos confirmados de SARS-COV-2. Para estudiar el fenómeno de letalidad integramos un conjunto de indicadores sociales, económicos y de salubridad y encontramos la combinación de estos que más se relaciona con el nivel de letalidad de COVID-19. Con esta combinación generamos un índice que nos da un ordenamiento de municipios de acuerdo al riesgo al que estarían expuestos sus habitantes si se infectan de Sars-COV-2. \n",
    "\n",
    "El conjunto de indicadores que utilizamos para este análisis provienen de CONEVAL, INEGI y CLUES. "
   ]
  },
  {
   "cell_type": "markdown",
   "metadata": {},
   "source": [
    "# Métodos"
   ]
  },
  {
   "cell_type": "markdown",
   "metadata": {},
   "source": [
    "# Índice por acumulación de carencias - Vía PCA"
   ]
  },
  {
   "cell_type": "markdown",
   "metadata": {},
   "source": [
    "#  Índice dirigido por letalidad de COVID-19 - Vía PLS."
   ]
  },
  {
   "cell_type": "markdown",
   "metadata": {},
   "source": [
    "# Resultados y análisis\n",
    "\n",
    "Nuestro análisis busca identificar el comportamiento del índice a lo largo de los días, por un lado esperamos que sea relativamente estable, aunque esperamos que vaya cambiando según llega nueva información, por otro lado esperamos que tenga una alta correlación con la tasa de letalidad de los municipios. El otro componente de análisis es ver qué variables son informativas y también qué tan estable es ese ranking de importancia. \n",
    "\n",
    "El método de ajuste es estándar, no es lo último en modelos de predicción, y esto tiene que ver con dos cosas, por un lado siempre es buena idea probar con el modelo más simple para evaluar qué tanto ganamos utilizado modelos más complejos, pero hay una razón también humana, si estamos diseñando una herramienta cuya intención es que sea utilizado en un escenario determinado, hay que evaluar cuáles son las características de dicho escenarios, quiénes son los usuarios y en qué condiciones van a usar la herramienta. Un método basado en técnicas de punta suele tener también mayor resistencia porque es desconocido por el público en general, y si es más complejo será más difícl que se internalice por un usuario, y, aunque tengamos estadísticas de mejor desempeño, termine siendo descartado como opción en favor de una metodología más sencilla. Esto en particular hay que considerarlo en momentos de emergencia donde hay poco tiempo para evaluar un nuevo método y a la vez necesitamos un alto grado de confianza en su desempeño. Si a esto le sumamos que en la emergencia hay multiples actores con distintas perspectivas, distintas responsabilidades y distinta formación, y esos actores requieren llegar a acuerdos sobre como operar ante dicha emergencia, el escenario se complejiza mucho. \n",
    "\n",
    "Esta metodología la estamos trabajando en ese marco, la idea es que sea útil como herramienta para la toma de decisiones, y para que cumpla su cometido, tienen que estar involucrados los tomadores de decisiones. \n"
   ]
  },
  {
   "cell_type": "code",
   "execution_count": null,
   "metadata": {},
   "outputs": [],
   "source": [
    "sns.set(style=\"whitegrid\")\n",
    "# Plot the orbital period with horizontal boxes\n",
    "f, ax = plt.subplots(figsize=(10, 15))\n",
    "sns.boxplot(y=\"caracteristica\", x=\"coef\", data=pls.sort_values(by='coef', ascending=False), palette='RdYlBu')\n",
    "sns.despine(trim=True, left=True)"
   ]
  },
  {
   "cell_type": "code",
   "execution_count": null,
   "metadata": {},
   "outputs": [],
   "source": [
    "df_0 = serie_vulnerabilidad[(serie_vulnerabilidad.conteo > 10) &\n",
    "                          (serie_vulnerabilidad.dia_ajuste == datetime.datetime(2020, 6, 1))]"
   ]
  },
  {
   "cell_type": "code",
   "execution_count": null,
   "metadata": {},
   "outputs": [],
   "source": [
    "df_0.boxplot(column='valor', by='ENTIDAD_RES', figsize=(30, 10), rot=45)\n",
    "sns.despine(trim=True, left=True)"
   ]
  },
  {
   "cell_type": "code",
   "execution_count": null,
   "metadata": {},
   "outputs": [],
   "source": [
    "f, ax = plt.subplots(figsize=(25, 10))\n",
    "df_1 = serie_vulnerabilidad[(serie_vulnerabilidad.conteo > 0) &\n",
    "                          (serie_vulnerabilidad.dia_ajuste == datetime.datetime(2020, 6, 12))]\n",
    "sns.boxplot(data=df_1, y='tasa_covid_letal', x='ENTIDAD_RES', saturation=0.3)\n",
    "sns.swarmplot(data=df_1, y='tasa_covid_letal', x='ENTIDAD_RES', edgecolor='gray')\n",
    "plt.xticks(rotation=80)\n",
    "sns.despine(trim=True, left=True)"
   ]
  },
  {
   "cell_type": "code",
   "execution_count": null,
   "metadata": {},
   "outputs": [],
   "source": [
    "f, ax = plt.subplots(figsize=(25, 10))\n",
    "df_0 = serie_vulnerabilidad[(serie_vulnerabilidad.dia_ajuste == datetime.datetime(2020, 6, 1))]\n",
    "sns.boxplot(data=df_1, y='valor', x='ENTIDAD_RES', saturation=0.3)\n",
    "sns.swarmplot(data=df_1, y='valor', x='ENTIDAD_RES', edgecolor='gray')\n",
    "plt.xticks(rotation=80)\n",
    "sns.despine(trim=True, left=True)"
   ]
  },
  {
   "cell_type": "code",
   "execution_count": null,
   "metadata": {},
   "outputs": [],
   "source": [
    "f, ax = plt.subplots(figsize=(20, 10))\n",
    "sns.regplot(data=df_0[(df_0.conteo > 0)], x='tasa_covid_letal', y='valor', x_bins=20, robust=True)"
   ]
  },
  {
   "cell_type": "code",
   "execution_count": null,
   "metadata": {},
   "outputs": [],
   "source": [
    "diccionario_indicadores = pd.read_csv('datos/variablesf.csv', encoding='latin-1', index_col=False)"
   ]
  },
  {
   "cell_type": "code",
   "execution_count": null,
   "metadata": {},
   "outputs": [],
   "source": [
    "caracteristicas_indice = caracteristicas_modelos_municipios(df_0, poblaciones=False, i_vuln=False)\n",
    "diccionario_indicadores.loc[diccionario_indicadores.Variable.isin(caracteristicas_indice),:].sort_values(by='Variable')"
   ]
  },
  {
   "cell_type": "code",
   "execution_count": null,
   "metadata": {},
   "outputs": [],
   "source": [
    "Image('letalidad_covid_0424_0611.gif', format='png')"
   ]
  },
  {
   "cell_type": "code",
   "execution_count": null,
   "metadata": {},
   "outputs": [],
   "source": [
    "Image('vulnerabilidad_covid_0424_0611.gif', format='png')"
   ]
  },
  {
   "cell_type": "markdown",
   "metadata": {},
   "source": [
    "Lo primero es ver qué tan bien se correlaciona el índice con la letalidad reportada. "
   ]
  },
  {
   "cell_type": "code",
   "execution_count": null,
   "metadata": {},
   "outputs": [],
   "source": [
    "sns.scatterplot(data=serie_vulnerabilidad[(serie_vulnerabilidad.conteo > 200) & \n",
    "                                          (serie_vulnerabilidad.dia_ajuste == datetime.date(2020, 6, 11).strftime('%y-%m-%d'))],\n",
    "                x='tasa_covid_letal', y='valor', legend=False)"
   ]
  },
  {
   "cell_type": "markdown",
   "metadata": {},
   "source": [
    "# Notas\n",
    "\n",
    "fuente: http://www.ciifen.org/index.php?option=com_content&view=category&layout=blog&id=84&Itemid=336&lang=es\n",
    "\n",
    "El riesgo se define como la combinación de la probabilidad de que se produzca un evento y sus consecuencias negativas. [1] Los factores que lo componen son la amenaza y la vulnerabilidad.\n",
    "\n",
    "Amenaza es un fenómeno, sustancia, actividad humana o condición peligrosa que puede ocasionar la muerte, lesiones u otros impactos a la salud, al igual que daños a la propiedad, la pérdida de medios de sustento y de servicios, trastornos sociales y económicos, o daños ambientales. [1] La amenaza se determina en función de la intensidad y la frecuencia.\n",
    "\n",
    "Vulnerabilidad son las características y las circunstancias de una comunidad, sistema o bien que los hacen susceptibles a los efectos dañinos de una amenaza. (1) Con los factores mencionados se compone la siguiente fórmula de riesgo.\n",
    "\n",
    "RIESGO = AMENAZA x VULNERABILIDAD (1)\n",
    "\n",
    "Los factores que componen la vulnerabilidad son la exposición, susceptibilidad y resiliencia, expresando su relación en la siguiente fórmula.\n",
    "\n",
    " \n",
    "\n",
    "VULNERABILIDAD = EXPOSICIÓN x SUSCEPTIBILIDAD / RESILIENCIA (1)\n",
    "\n",
    "Exposición es la condición de desventaja debido a la ubicación, posición o localización de un sujeto, objeto o sistema expuesto al riesgo.\n",
    "\n",
    "Susceptibilidad es el grado de fragilidad interna de un sujeto, objeto o sistema para enfrentar una amenaza y recibir un posible impacto debido a la ocurrencia de un evento adverso.\n",
    "\n",
    "Resiliencia es la capacidad de un sistema, comunidad o sociedad expuestos a una amenaza para resistir, absorber, adaptarse y recuperarse de sus efectos de manera oportuna y eficaz, lo que incluye la preservación y la restauración de sus estructuras y funciones básicas.\n",
    "\n"
   ]
  },
  {
   "cell_type": "code",
   "execution_count": null,
   "metadata": {},
   "outputs": [],
   "source": [
    "# hide\n",
    "\n",
    "from nbdev.export import notebook2script\n",
    "notebook2script()"
   ]
  },
  {
   "cell_type": "code",
   "execution_count": null,
   "metadata": {},
   "outputs": [],
   "source": []
  }
 ],
 "metadata": {
  "kernelspec": {
   "display_name": "Python 3",
   "language": "python",
   "name": "python3"
  }
 },
 "nbformat": 4,
 "nbformat_minor": 4
}
